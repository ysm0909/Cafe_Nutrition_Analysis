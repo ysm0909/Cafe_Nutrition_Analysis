{
 "cells": [
  {
   "cell_type": "code",
   "execution_count": null,
   "metadata": {},
   "outputs": [],
   "source": [
    "#https://teddylee777.github.io/langchain/langchain-tutorial-04/"
   ]
  },
  {
   "cell_type": "code",
   "execution_count": null,
   "metadata": {},
   "outputs": [],
   "source": [
    "# OPENAI_API\n",
    "import os\n",
    "\n",
    "os.environ['OPENAI_API_KEY'] = \"개인키작성\""
   ]
  },
  {
   "cell_type": "code",
   "execution_count": null,
   "metadata": {},
   "outputs": [],
   "source": [
    "import pandas as pd\n",
    "\n",
    "# csv 파일을 데이터프레임으로 로드\n",
    "df = pd.read_csv(\"D:/[24]ICT_Practice/practice_file/code.csv\" , encoding='cp949')\n",
    "df.head()"
   ]
  },
  {
   "cell_type": "code",
   "execution_count": null,
   "metadata": {},
   "outputs": [],
   "source": [
    "from langchain_experimental.agents import create_pandas_dataframe_agent\n",
    "from langchain.chat_models import ChatOpenAI\n",
    "from langchain.agents.agent_types import AgentType\n",
    "\n",
    "\n",
    "# 에이전트 생성\n",
    "agent = create_pandas_dataframe_agent(\n",
    "    ChatOpenAI(temperature=0, \n",
    "               model='gpt-4-0613',\n",
    "               openai_api_key=\"개인키작성\"),        # 모델 정의\n",
    "    df,                                    # 데이터프레임\n",
    "    verbose=True,                          # 추론과정 출력\n",
    "    agent_type=AgentType.OPENAI_FUNCTIONS, # AgentType.ZERO_SHOT_REACT_DESCRIPTION\n",
    "    allow_dangerous_code=True \n",
    ")"
   ]
  },
  {
   "cell_type": "code",
   "execution_count": null,
   "metadata": {},
   "outputs": [],
   "source": [
    "# 질의\n",
    "agent.run('데이터의 행과 열의 갯수는 어떻게 돼?')"
   ]
  },
  {
   "cell_type": "code",
   "execution_count": null,
   "metadata": {},
   "outputs": [],
   "source": [
    "# 질의\n",
    "agent.run('브루나인의 국가코드랑 국가대륙코드는 뭐야?')"
   ]
  }
 ],
 "metadata": {
  "language_info": {
   "name": "python"
  }
 },
 "nbformat": 4,
 "nbformat_minor": 2
}
